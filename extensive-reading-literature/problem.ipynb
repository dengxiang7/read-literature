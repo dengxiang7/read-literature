{
 "cells": [
  {
   "cell_type": "markdown",
   "metadata": {},
   "source": [
    "# 问题集合  \n",
    "    \n",
    " <br>   \n",
    "  \n",
    "#### 从隐藏的特征学习：联合因素分析和潜在聚类\n",
    "1、PCA 主成分析，  \n",
    "2、奇异值分解（SVD），非负矩阵分解（NMF），矩阵和张量分解（或因子分析）  \n",
    "\n",
    "\n",
    "#### 同时进行深度学习和聚类\n",
    "1、PCA \n",
    "2、为什么同时进行降维，和聚类，可以能够使降维的数据有很好的聚类结构，而不会失去保真度。（做降维，又很多降维数据表示形式，同时做聚类，是怎么样保证降维的数据形式又很好的聚类结构）  \n",
    "3、什么原因导致不加正则化项，会出现琐碎解，加了正则化项又是怎么做到控制解结构的。  \n",
    "4、线性变换，非线性变换，在重构方面的作用  \n",
    "5.抓紧看第10章，降维和主成分析和重构  \n",
    "6、怎么做到降维和聚类同时实现"
   ]
  },
  {
   "cell_type": "code",
   "execution_count": null,
   "metadata": {},
   "outputs": [],
   "source": []
  }
 ],
 "metadata": {
  "kernelspec": {
   "display_name": "Python 3",
   "language": "python",
   "name": "python3"
  },
  "language_info": {
   "codemirror_mode": {
    "name": "ipython",
    "version": 3
   },
   "file_extension": ".py",
   "mimetype": "text/x-python",
   "name": "python",
   "nbconvert_exporter": "python",
   "pygments_lexer": "ipython3",
   "version": "3.6.10"
  }
 },
 "nbformat": 4,
 "nbformat_minor": 4
}
