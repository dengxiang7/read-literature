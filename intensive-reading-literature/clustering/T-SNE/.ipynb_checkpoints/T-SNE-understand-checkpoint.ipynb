{
 "cells": [
  {
   "attachments": {},
   "cell_type": "markdown",
   "metadata": {},
   "source": [
    "### T-SNE \n",
    "T-SNE 是一种非线性的降维方法；适合把数据降维到2维或3维进行可视化  \n",
    "  \n",
    "<br>  \n",
    "  \n",
    "### SNE \n",
    "SNE通过仿射变换，把数据点映射到概率分布上：  \n",
    "1、SNE构建一个高维对象之间的概率分布，使得相似的对象有更高的概率被选择，而不相似的对象有较低的概率被选择  \n",
    "  \n",
    "2、SNE在低维空间里在构建这些点的概率分布，使得这两个概率分布之间尽可能的相似。  \n",
    "  \n",
    "<br>  \n",
    "\n",
    "推导：  \n",
    "\n",
    "1、将欧几里得距离转换为条件概率来表达点与点之间的相似度;概率pij，正比于xi和xj之间的相似度（这种概率是我们自主构建的）有一个参数是σi，对于不同的点xi取值不一样， \n",
    "![](img/sne1.PNG)  \n",
    "  \n",
    "2、在低维空间中样本之间的概率分布  \n",
    "![](img/sne2.PNG)   \n",
    "  \n",
    "降维的效果比较好，局部特征保留完整，那么 pi∣j=qi∣j, 那么更具KL散度，C\n",
    "![](img/sne3.PNG) "
   ]
  },
  {
   "cell_type": "code",
   "execution_count": null,
   "metadata": {},
   "outputs": [],
   "source": []
  }
 ],
 "metadata": {
  "kernelspec": {
   "display_name": "Python 3",
   "language": "python",
   "name": "python3"
  },
  "language_info": {
   "codemirror_mode": {
    "name": "ipython",
    "version": 3
   },
   "file_extension": ".py",
   "mimetype": "text/x-python",
   "name": "python",
   "nbconvert_exporter": "python",
   "pygments_lexer": "ipython3",
   "version": "3.6.10"
  }
 },
 "nbformat": 4,
 "nbformat_minor": 4
}
